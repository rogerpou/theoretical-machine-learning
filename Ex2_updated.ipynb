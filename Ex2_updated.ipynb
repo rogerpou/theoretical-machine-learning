{
 "cells": [
  {
   "cell_type": "markdown",
   "metadata": {},
   "source": [
    "*<center>Exercise 1</center>*\n",
    "Task A:\n",
    "Write down a formula that allows to numerically solve the integrals:\n",
    "\n",
    "$$\\int_{-\\infty}^{\\infty}e^{-x^2}x^2dx$$\n",
    "\n",
    "$$\\int_{-\\infty}^{\\infty}e^{-x^2}cos^2(x)dx$$\n",
    "\n",
    "**Solution:**\n",
    "https://en.wikipedia.org/wiki/Gauss%E2%80%93Hermite_quadrature\n",
    "https://docs.scipy.org/doc/numpy-1.15.1/reference/generated/numpy.polynomial.hermite.hermgauss.html\n",
    "https://stackoverflow.com/questions/33118677/numerical-integration-for-gaussian-function-indefinite-integral\n",
    "\n",
    "\n"
   ]
  },
  {
   "cell_type": "markdown",
   "metadata": {},
   "source": [
    "\n",
    "$I = 2(\\int_{0}^{1}\\exp{-(\\frac{1}{t})^{2}}\\frac{1}{t^{2}}dt + \\int_{0}^{1}\\exp{(-x^{2})}x^{2}dx)$\n",
    "\n",
    "$I = 2(\\int_{0}^{1}\\exp{(-x^{2})}\\cos(x)dx + \\int_{0}^{1}\\exp{(-1/t^{2})}\\cos(\\frac{1}{t})\\frac{1}{t^{2}}dt)$\n",
    "\n"
   ]
  },
  {
   "cell_type": "markdown",
   "metadata": {},
   "source": [
    "*Task B:\n",
    "Draw 100 samples from a uniform distribution (interval [0, 1]) using any of popular libraries\n",
    "or built in functions of matlab or python. Do the same for the normal distribution\n",
    "(σ = 1; µ = 0).*\n",
    "\n",
    "**Solution:**\n",
    "We choose at first to use the most simple case, the constant uniform distribution with a p.d.f. as $$p(x)=\\frac{1}{b-a}$$\n"
   ]
  },
  {
   "cell_type": "code",
   "execution_count": 2,
   "metadata": {},
   "outputs": [
    {
     "data": {
      "image/png": "[encoded data removed]",
      "text/plain": [
       "<Figure size 432x288 with 1 Axes>"
      ]
     },
     "metadata": {},
     "output_type": "display_data"
    }
   ],
   "source": [
    "import numpy as np\n",
    "s = np.random.uniform(0,1,10000)\n",
    "\n",
    "import matplotlib.pyplot as plt\n",
    "\n",
    "count, bins, ignored = plt.hist(s, 15, density=True)\n",
    "plt.plot(bins, np.ones_like(bins), linewidth=2, color='r')\n",
    "plt.show()\n",
    "\n",
    "#reference: https://docs.scipy.org/doc/numpy/reference/generated/numpy.random.uniform.html\n"
   ]
  },
  {
   "cell_type": "markdown",
   "metadata": {},
   "source": [
    "Now we do it for the normal distribution but with 100000 samples (instead of 100) to get a very fit histogram."
   ]
  },
  {
   "cell_type": "code",
   "execution_count": 3,
   "metadata": {},
   "outputs": [
    {
     "data": {
      "image/png": "[encoded data removed]",
      "text/plain": [
       "<Figure size 432x288 with 1 Axes>"
      ]
     },
     "metadata": {},
     "output_type": "display_data"
    }
   ],
   "source": [
    "mu, sigma = 0, 1 # mean and standard deviation\n",
    "s = np.random.normal(mu, sigma, 100000)\n",
    "count, bins, ignored = plt.hist(s, 100, density=True)\n",
    "plt.plot(bins, 1/(sigma * np.sqrt(2 * np.pi))*np.exp( - (bins - mu)**2 / (2 * sigma**2) ),linewidth=2, color='r')\n",
    "plt.show()\n",
    "\n",
    "#https://docs.scipy.org/doc/numpy-1.15.0/reference/generated/numpy.random.normal.html"
   ]
  },
  {
   "cell_type": "markdown",
   "metadata": {},
   "source": [
    "Task C:\n",
    "Numerically solve the integrals of Task A using samples drawn from a suitable distribution.\n",
    "Both integrals have an analytic solution (see e.g. Bronstein). How close do you get?\n",
    "\n"
   ]
  },
  {
   "cell_type": "code",
   "execution_count": 4,
   "metadata": {},
   "outputs": [
    {
     "name": "stdout",
     "output_type": "stream",
     "text": [
      "The numerical integral of the first equation in Task A is 0.8862232856495387 and the analytical integral is 0.88623.\n",
      "The numerical integral of the first equation in Task A is 1.3803879190603703 and the analytical integral is 1.3804.\n"
     ]
    }
   ],
   "source": [
    "import numpy as np\n",
    "\n",
    "N = 1000000\n",
    "\n",
    "first = lambda x: x**2* np.exp(-x**2);\n",
    "\n",
    "second = lambda x: np.exp(-1./(x**2)) * (1./(x**4));\n",
    "\n",
    "third = lambda x: np.cos(x)* np.exp(-x**2)\n",
    "\n",
    "fourth = lambda x: np.exp(-1/(x**2))* (1/(x**2))*np.cos(1/x) #This function was typed wrong, compared to the equation in task A\n",
    "\n",
    "samples_x=np.random.rand(1,N)\n",
    "\n",
    "\n",
    "\n",
    "samples_x=np.sort(samples_x)\n",
    "\n",
    "samples_t=np.random.rand(1,N)\n",
    "\n",
    "samples_t=np.sort(samples_t)\n",
    "\n",
    "x = np.zeros(N)\n",
    "t = np.zeros(N)\n",
    "\n",
    "\n",
    "\n",
    "for i in range(1,N):\n",
    "    x[i-1]=samples_x[0][i]-samples_x[0][i-1]\n",
    "\n",
    "\n",
    "for i in range(1,N):\n",
    "    t[i-1]=samples_t[0][i]-samples_t[0][i-1]\n",
    "\n",
    "\n",
    "fx=first(samples_x)\n",
    "ft=second(samples_t)\n",
    "\n",
    "integral_1=2*(np.dot(fx,x)+np.dot(ft,t))\n",
    "print(f'The numerical integral of the first equation in Task A is {sum(integral_1)} and the analytical integral is 0.88623.')\n",
    "\n",
    "fx_1=third(samples_x)\n",
    "\n",
    "ft_1=fourth(samples_t)\n",
    "\n",
    "integral_2=2*(np.dot(fx_1,x)+np.dot(ft_1,t))\n",
    "\n",
    "\n",
    "print(f'The numerical integral of the first equation in Task A is {sum(integral_2)} and the analytical integral is 1.3804.')\n",
    "\n",
    "\n"
   ]
  },
  {
   "cell_type": "markdown",
   "metadata": {},
   "source": [
    "Task D:\n",
    "Could you infer the analytical solution of the first integral using the formulas of Task C?\n",
    "If yes, how?"
   ]
  },
  {
   "cell_type": "markdown",
   "metadata": {},
   "source": [
    "If we integrate this integrals by parts, we will end up with a non elementary integral which is $\\int_{0}^{1}e^{-x^2}dx$. In order to solve this, we could use a Taylor Series but this will never end up with the exact solution since they are a finite number of approximations."
   ]
  },
  {
   "cell_type": "markdown",
   "metadata": {},
   "source": [
    "*<center>Exercise 2</center>*\n",
    "\n",
    "Task A: \n",
    "Calculate the expectation value of the variance, which is defined by:\n",
    "\n",
    "$$<(x-<x>)^2>$$\n",
    "\n",
    "**Solution:**\n",
    "\n",
    "We expand the square inside to get this very well meet result. We also use the linearity property of the expectation value and that $<x<x>>=<x>^2$ which is easy to see.\n",
    "\n",
    "\\begin{align}\n",
    "<(x-<x>)^2>\\\\=<(x^2+<x>^2-2x<x>)> \\\\=<x^2>+<x>^2-2<x<x>>\\\\=<x^2>+<x>^2-2<x>^2\\\\=<x^2>-<x>^2\n",
    "\\end{align}"
   ]
  },
  {
   "cell_type": "markdown",
   "metadata": {},
   "source": [
    "Task B: Show that the formation of the expectation value is a linear operation on the function $v(x)$.\n",
    "\n",
    "**Solution:**\n",
    "There is no secret on this result since the linearity of integration, which in our case by definition of expectation value is an improper integral. $p(x)$ is our p.d.f.\n",
    "\n",
    "$$<\\alpha·v(x)>=\\int_{-\\infty}^{\\infty}\\alpha v(x)p(x)dx=\\alpha ·\\int_{-\\infty}^{\\infty} v(x)p(x)dx=\\alpha·<v(x)>$$\n",
    "\n"
   ]
  },
  {
   "cell_type": "markdown",
   "metadata": {},
   "source": [
    "*<center>Exercise 3</center>*\n",
    "\n",
    "Task A:\n",
    "Show that $p(x|(\\mu_1,\\mu_2,\\sigma_1^2,\\sigma_2^2))$ is a probability density function.\n",
    "\n",
    "**Solution:**\n",
    "\n",
    "Since $N(x;\\mu_1,\\sigma)$ is pdf, $p(x|(\\mu_1,\\mu_2,\\sigma_1^2,\\sigma_2^2))$ should be also.\n",
    "\n",
    "Let's verify that $p(x|(\\mu_1,\\mu_2,\\sigma_1^2,\\sigma_2^2))\\geq 0 \\quad\t\\forall x$ and that $\\int_{-\\infty}^{\\infty}p(x|(\\mu_1,\\mu_2,\\sigma_1^2,\\sigma_2^2))=1$. \n",
    "\n",
    "*first condition*\n",
    "\n",
    "Because every normal function is formed by an exponential function and this function it's always 0 or positive, so you end up with the sum of two positive numbers which should be always positive.\n",
    "\n",
    "*second condition*\n",
    "\n",
    "Since we already know that the expected value of a gaussian integral is the mean of that distribution, we will get that \n",
    "\n",
    "Task B:\n",
    "Why is it dificult to find a maximum likelihood solution for $p(x|(μ_1 , μ_2 , σ_1^2 , σ_2^2 ))$ ?\n",
    "(Just answer the question and motivate the answer, do not try to find a solution.)\n",
    "\n",
    "Because we need to adjust 4 random variables at the same time, both expected values and standard deviations. \n",
    "\n",
    "\n",
    "\n",
    "\n"
   ]
  },
  {
   "cell_type": "code",
   "execution_count": null,
   "metadata": {},
   "outputs": [],
   "source": []
  },
  {
   "cell_type": "code",
   "execution_count": null,
   "metadata": {},
   "outputs": [],
   "source": []
  },
  {
   "cell_type": "code",
   "execution_count": null,
   "metadata": {},
   "outputs": [],
   "source": []
  }
 ],
 "metadata": {
  "kernelspec": {
   "display_name": "Python 3",
   "language": "python",
   "name": "python3"
  },
  "language_info": {
   "codemirror_mode": {
    "name": "ipython",
    "version": 3
   },
   "file_extension": ".py",
   "mimetype": "text/x-python",
   "name": "python",
   "nbconvert_exporter": "python",
   "pygments_lexer": "ipython3",
   "version": "3.6.4"
  }
 },
 "nbformat": 4,
 "nbformat_minor": 2
}
